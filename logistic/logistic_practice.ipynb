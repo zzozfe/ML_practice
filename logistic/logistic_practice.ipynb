{
 "cells": [
  {
   "cell_type": "code",
   "execution_count": 1,
   "metadata": {},
   "outputs": [],
   "source": [
    "import numpy as np\n",
    "import pandas as pd"
   ]
  },
  {
   "cell_type": "code",
   "execution_count": 2,
   "metadata": {},
   "outputs": [],
   "source": [
    "train_X = pd.read_csv('X_train')\n",
    "train_Y = pd.read_csv('Y_train',header = -1)\n",
    "test_X = pd.read_csv('X_test')\n",
    "train_X['fnlwgt'] = train_X['fnlwgt'].clip(0,800000)\n",
    "test_X['fnlwgt'] = test_X['fnlwgt'].clip(0,800000)"
   ]
  },
  {
   "cell_type": "code",
   "execution_count": 3,
   "metadata": {},
   "outputs": [],
   "source": [
    "def stander(x):\n",
    "    for c in x.columns:\n",
    "        mean = x[c].mean()\n",
    "        std = x[c].std()\n",
    "        if std != 0 :\n",
    "            x[c] = x[c].map(lambda x : (x-mean)/std)\n",
    "    return x "
   ]
  },
  {
   "cell_type": "code",
   "execution_count": 4,
   "metadata": {},
   "outputs": [],
   "source": [
    "conx = pd.concat((train_X, test_X))\n",
    "def pro(x):\n",
    "    if x > 0 :\n",
    "        x = 1\n",
    "    else:\n",
    "        x = 0\n",
    "    return x    \n",
    "conx['capital_gain'] = conx['capital_gain'].map(pro)\n",
    "conx['capital_loss'] = conx['capital_loss'].map(pro)\n",
    "conx = stander(conx)\n",
    "train_X = conx.iloc[0:train_X.shape[0],:]\n",
    "test_X = conx.iloc[train_X.shape[0]::,:]"
   ]
  },
  {
   "cell_type": "code",
   "execution_count": 50,
   "metadata": {},
   "outputs": [],
   "source": [
    "def lse(x,y):\n",
    "    x = x.to_numpy()\n",
    "    y = y.to_numpy()\n",
    "    w = np.full(106,0.1).reshape(-1,1)\n",
    "    b = 0.1\n",
    "    lr = 0.001\n",
    "    lamda = 0.001\n",
    "    itea = 10000\n",
    "    sigma = np.zeros((106,1))\n",
    "    sigmab = 0\n",
    "    v = np.zeros((106,1))\n",
    "    vb = 0\n",
    "    beta1 = 0.9\n",
    "    beta2 = 0.999\n",
    "    eplision = 1e-8\n",
    "    t = 0\n",
    "\n",
    "    for i in range(itea):\n",
    "        t += 1\n",
    "        z = np.dot(x, w) + b\n",
    "        y_hat = 1/(1+np.exp(-z))\n",
    "        L = y - y_hat\n",
    "        w_grad = -1*np.dot(x.T,L)\n",
    "        b_grad = -1*L.sum()\n",
    "        sigma = beta2*sigma + (1-beta2)*w_grad*w_grad\n",
    "        sigmab = beta2*sigmab + (1-beta2)*b_grad*b_grad\n",
    "        v = beta1*v + (1-beta1)*w_grad\n",
    "        vb = beta1*vb + (1-beta1)*b_grad\n",
    "        sigman = sigma/(1-beta2**t)\n",
    "        sigmabn = sigmab/(1-beta2**t)\n",
    "        vn = v/(1-beta1**t)\n",
    "        vbn = vb/(1-beta1**t)\n",
    "    \n",
    "        b = b - (lr*vbn)/(np.sqrt(sigmabn) + eplision)\n",
    "        w = w - (lr*vn)/(np.sqrt(sigman)+ eplision)\n",
    "\n",
    "    return w,b"
   ]
  },
  {
   "cell_type": "code",
   "execution_count": 51,
   "metadata": {},
   "outputs": [
    {
     "name": "stdout",
     "output_type": "stream",
     "text": [
      "花了 47.61518883705139秒\n"
     ]
    }
   ],
   "source": [
    "w,b = lse(train_X, train_Y)"
   ]
  },
  {
   "cell_type": "code",
   "execution_count": 55,
   "metadata": {},
   "outputs": [],
   "source": [
    "predict = pd.DataFrame()\n",
    "ids = []\n",
    "values = []\n",
    "z = np.dot(test_X, w) + b\n",
    "pc0x = 1/(1 + np.exp(-z))\n",
    "for i in range(len(pc0x)):\n",
    "    ids.append(i+1)\n",
    "    if pc0x[i] > 0.5:\n",
    "        values.append(1)\n",
    "    else:\n",
    "        values.append(0)\n",
    "predict['id'] = ids\n",
    "predict['label'] = values"
   ]
  },
  {
   "cell_type": "code",
   "execution_count": 56,
   "metadata": {},
   "outputs": [],
   "source": [
    "predict.to_csv('testlogic.csv',index=False)"
   ]
  }
 ],
 "metadata": {
  "kernelspec": {
   "display_name": "Python 3",
   "language": "python",
   "name": "python3"
  },
  "language_info": {
   "codemirror_mode": {
    "name": "ipython",
    "version": 3
   },
   "file_extension": ".py",
   "mimetype": "text/x-python",
   "name": "python",
   "nbconvert_exporter": "python",
   "pygments_lexer": "ipython3",
   "version": "3.7.3"
  }
 },
 "nbformat": 4,
 "nbformat_minor": 2
}
