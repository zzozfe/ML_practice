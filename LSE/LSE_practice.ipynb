{
 "cells": [
  {
   "cell_type": "code",
   "execution_count": 8,
   "metadata": {},
   "outputs": [],
   "source": [
    "import math\n",
    "import numpy as np\n",
    "import pandas as pd\n"
   ]
  },
  {
   "cell_type": "code",
   "execution_count": 9,
   "metadata": {},
   "outputs": [],
   "source": [
    "def dataclean(x):\n",
    "    for i in range(x.shape[1]-2):\n",
    "        x.loc[:,str(i)] = x.loc[:,str(i)].str.replace('#','')\n",
    "        x.loc[:,str(i)] = x.loc[:,str(i)].str.replace('x','')\n",
    "        x.loc[:,str(i)] = x.loc[:,str(i)].str.replace('*','')\n",
    "    x = x.replace({'NR':0})\n",
    "    columns = []\n",
    "    for i in range(x.shape[1]-2):\n",
    "        columns.append(str(i))\n",
    "    x[columns] = x[columns].astype(np.float)\n",
    "    x = x.fillna(0)\n",
    "    return x"
   ]
  },
  {
   "cell_type": "code",
   "execution_count": 10,
   "metadata": {},
   "outputs": [],
   "source": [
    "def splitdata(x):\n",
    "    y = x[x['測項'] == 'PM2.5'].iloc[:,2:]\n",
    "    x = x.drop(['日期','測項'] , axis=1)\n",
    "    y = y.to_numpy()\n",
    "    x = x.to_numpy()\n",
    "    newdata = x[0:18,:]\n",
    "    for i in range(int(x.shape[0]/18-1)):\n",
    "        newdata = np.hstack((newdata,x[18*(i+1):18*(i+2),:]))    \n",
    "    y = y.reshape(-1,1)\n",
    "    train_X = []\n",
    "    for i in range(newdata.shape[1]-9):\n",
    "        train_X.append(newdata[:,i:i+9])\n",
    "    train_X = np.array(train_X)\n",
    "    y = y[9:]\n",
    "    return train_X,y"
   ]
  },
  {
   "cell_type": "code",
   "execution_count": 11,
   "metadata": {},
   "outputs": [],
   "source": [
    "def valid(x, y):\n",
    "    if y <= 2 or y > 100:\n",
    "        return False\n",
    "    if ((x <= 2).sum() + (x > 100).sum()) > 0:\n",
    "        return False\n",
    "    return True\n",
    "def datafilter(x,y):\n",
    "    xx = []\n",
    "    yy = []\n",
    "    for i in range(x.shape[0]):\n",
    "        if valid(x[i][9],y[i]):\n",
    "            xx.append(x[i].reshape(1,-1))\n",
    "            yy.append(y[i])\n",
    "    train_X = np.array(xx)\n",
    "    train_Y = np.array(yy)\n",
    "    train_Y = train_Y.reshape(-1,1)\n",
    "    train_X = train_X.reshape(-1,162)        \n",
    "    return train_X,train_Y       "
   ]
  },
  {
   "cell_type": "code",
   "execution_count": 21,
   "metadata": {},
   "outputs": [],
   "source": [
    "def lse(train_X,train_Y):\n",
    "    index = np.arange(train_X.shape[0])\n",
    "    np.random.shuffle(index)\n",
    "    train_X = train_X[index]\n",
    "    train_Y = train_Y[index]\n",
    "    import time\n",
    "    w = np.full(162,0.1).reshape(-1,1)\n",
    "    b = 0.1\n",
    "    lr = 0.001\n",
    "    lamda = 0.001\n",
    "    itea = 10000\n",
    "    sigma = np.zeros((162,1))\n",
    "    sigmab = 0\n",
    "    v = np.zeros((162,1))\n",
    "    vb = 0\n",
    "    beta1 = 0.9\n",
    "    beta2 = 0.999\n",
    "    eplision = 1e-8\n",
    "    t = 0\n",
    "    start = time.time()\n",
    "    for i in range(itea):\n",
    "        t += 1\n",
    "        y_hat = np.dot(train_X,w) + b\n",
    "        L = train_Y - y_hat\n",
    "        w_grad = -2*np.dot(train_X.T,L) + 2*lamda*(w.sum())\n",
    "        b_grad = 2*L.sum()\n",
    "        sigma = beta2*sigma + (1-beta2)*w_grad*w_grad\n",
    "        sigmab = beta2*sigmab + (1-beta2)*b_grad*b_grad\n",
    "        v = beta1*v + (1-beta1)*w_grad\n",
    "        vb = beta1*vb + (1-beta1)*b_grad\n",
    "        sigman = sigma/(1-beta2**t)\n",
    "        sigmabn = sigmab/(1-beta2**t)\n",
    "        vn = v/(1-beta1**t)\n",
    "        vbn = vb/(1-beta1**t)\n",
    "    \n",
    "        b = b - (lr*vbn)/(np.sqrt(sigmabn) + eplision)\n",
    "        w = w - (lr*vn)/(np.sqrt(sigman)+ eplision)\n",
    "    print(f'花了 {time.time()-start}秒') \n",
    "    return w,b"
   ]
  },
  {
   "cell_type": "code",
   "execution_count": 22,
   "metadata": {},
   "outputs": [
    {
     "name": "stdout",
     "output_type": "stream",
     "text": [
      "花了 23.047420501708984秒\n"
     ]
    }
   ],
   "source": [
    "x1 = pd.read_csv('year1-data.csv')\n",
    "x2 = pd.read_csv('year2-data.csv')\n",
    "data = pd.concat([x1,x2])\n",
    "data = dataclean(data)\n",
    "x, y = splitdata(data)\n",
    "x, y = datafilter(x,y)\n",
    "w,b = lse(x,y)"
   ]
  },
  {
   "cell_type": "code",
   "execution_count": 10,
   "metadata": {},
   "outputs": [],
   "source": [
    "def rmse(x,y):\n",
    "    mse = 0\n",
    "    for i in range(len(y)):\n",
    "        mse += np.sqrt((y[i]-x[i])**2)\n",
    "        mse = mse/len(y)\n",
    "    return mse"
   ]
  },
  {
   "cell_type": "code",
   "execution_count": 11,
   "metadata": {},
   "outputs": [
    {
     "name": "stdout",
     "output_type": "stream",
     "text": [
      "0.0004039347348357003\n"
     ]
    }
   ],
   "source": [
    "score = rmse(np.dot(x,w)+b,y)\n",
    "print(score[0])"
   ]
  },
  {
   "cell_type": "code",
   "execution_count": 72,
   "metadata": {},
   "outputs": [],
   "source": [
    "test = pd.read_csv('testing_data.csv')\n",
    "test = dataclean(test)\n",
    "test = test.drop(['id','測項'],axis=1)\n",
    "test = test.to_numpy()\n",
    "test = test.reshape(-1,162)"
   ]
  },
  {
   "cell_type": "code",
   "execution_count": 79,
   "metadata": {
    "scrolled": true
   },
   "outputs": [],
   "source": [
    "predict = pd.DataFrame(columns = ['id','value'])\n",
    "ids = []\n",
    "values = []\n",
    "for i in range(500):\n",
    "    ids.append('id_'+ str(i))\n",
    "    values.append(float(np.dot(test,w)[i]+b))\n",
    "predict['id'] = ids\n",
    "predict['value'] = values  \n",
    "predict.to_csv('predict.csv' , index = False)"
   ]
  },
  {
   "cell_type": "code",
   "execution_count": null,
   "metadata": {},
   "outputs": [],
   "source": []
  }
 ],
 "metadata": {
  "kernelspec": {
   "display_name": "Python 3",
   "language": "python",
   "name": "python3"
  },
  "language_info": {
   "codemirror_mode": {
    "name": "ipython",
    "version": 3
   },
   "file_extension": ".py",
   "mimetype": "text/x-python",
   "name": "python",
   "nbconvert_exporter": "python",
   "pygments_lexer": "ipython3",
   "version": "3.7.3"
  }
 },
 "nbformat": 4,
 "nbformat_minor": 2
}
