{
  "nbformat": 4,
  "nbformat_minor": 0,
  "metadata": {
    "colab": {
      "name": "LSTM_practice.ipynb",
      "provenance": [],
      "collapsed_sections": []
    },
    "kernelspec": {
      "name": "python3",
      "display_name": "Python 3"
    },
    "accelerator": "GPU"
  },
  "cells": [
    {
      "cell_type": "code",
      "metadata": {
        "id": "WTT4xaOYjyc3"
      },
      "source": [
        "import numpy as np\n",
        "import pandas as pd\n",
        "import spacy\n",
        "import random\n",
        "import torch\n",
        "import torch.nn as nn\n",
        "import torch\n",
        "from torch.optim import Adam\n",
        "from torchvision import transforms\n",
        "from torch.utils.data import DataLoader, Dataset\n",
        "from gensim.models import word2vec\n",
        "import matplotlib.pyplot as plt"
      ],
      "execution_count": null,
      "outputs": []
    },
    {
      "cell_type": "code",
      "metadata": {
        "id": "OJMmi4m5kV7E"
      },
      "source": [
        "from pydrive.auth import GoogleAuth\n",
        "from pydrive.drive import GoogleDrive \n",
        "from google.colab import auth \n",
        "from oauth2client.client import GoogleCredentials\n",
        "   \n",
        "auth.authenticate_user()\n",
        "gauth = GoogleAuth()\n",
        "gauth.credentials = GoogleCredentials.get_application_default()\n",
        "drive = GoogleDrive(gauth)\n",
        "file_id = '1l1WBEb2GvJo8fXALiDwNrdy9RkM30EVL'\n",
        "downloaded = drive.CreateFile({'id': file_id})\n",
        "downloaded.GetContentFile('train_x.csv')\n",
        "file_id = '14dHld_a7dQg_uFh9uMAu-8qKEsV_aL8u'\n",
        "downloaded = drive.CreateFile({'id': file_id})\n",
        "downloaded.GetContentFile('train_y.csv')\n",
        "file_id = '1IjLU8q60yWbrJyw5mEwasjfkCL2NhEAS'\n",
        "downloaded = drive.CreateFile({'id': file_id})\n",
        "downloaded.GetContentFile('test_x.csv')"
      ],
      "execution_count": null,
      "outputs": []
    },
    {
      "cell_type": "code",
      "metadata": {
        "id": "6LgeU5jGk0Wp"
      },
      "source": [
        "trainX = pd.read_csv('train_x.csv')\n",
        "trainY = pd.read_csv('train_y.csv')\n",
        "testX = pd.read_csv('test_x.csv')"
      ],
      "execution_count": null,
      "outputs": []
    },
    {
      "cell_type": "code",
      "metadata": {
        "id": "u9wEmMhfs9xC",
        "colab": {
          "base_uri": "https://localhost:8080/",
          "height": 245
        },
        "outputId": "ce413c29-ea95-47fb-9d92-33ac0176afaa"
      },
      "source": [
        "!python -m spacy download en_core_web_md"
      ],
      "execution_count": null,
      "outputs": [
        {
          "output_type": "stream",
          "text": [
            "Collecting en_core_web_md==2.1.0\n",
            "\u001b[?25l  Downloading https://github.com/explosion/spacy-models/releases/download/en_core_web_md-2.1.0/en_core_web_md-2.1.0.tar.gz (95.4MB)\n",
            "\u001b[K     |████████████████████████████████| 95.4MB 3.1MB/s \n",
            "\u001b[?25hBuilding wheels for collected packages: en-core-web-md\n",
            "  Building wheel for en-core-web-md (setup.py) ... \u001b[?25l\u001b[?25hdone\n",
            "  Created wheel for en-core-web-md: filename=en_core_web_md-2.1.0-cp36-none-any.whl size=97126237 sha256=fc19f62b3c4d1ec12fabe1269c2f41189f2514aef1e5f5aea07f692c4ea5fd5e\n",
            "  Stored in directory: /tmp/pip-ephem-wheel-cache-vron2ywu/wheels/c1/2c/5f/fd7f3ec336bf97b0809c86264d2831c5dfb00fc2e239d1bb01\n",
            "Successfully built en-core-web-md\n",
            "Installing collected packages: en-core-web-md\n",
            "Successfully installed en-core-web-md-2.1.0\n",
            "\u001b[38;5;2m✔ Download and installation successful\u001b[0m\n",
            "You can now load the model via spacy.load('en_core_web_md')\n"
          ],
          "name": "stdout"
        }
      ]
    },
    {
      "cell_type": "code",
      "metadata": {
        "id": "0N7Kwl1l2FIu"
      },
      "source": [
        "import en_core_web_md\n",
        "nlp = en_core_web_md.load()\n",
        "tokenizer = spacy.lang.en.English().Defaults().create_tokenizer(nlp)"
      ],
      "execution_count": null,
      "outputs": []
    },
    {
      "cell_type": "code",
      "metadata": {
        "id": "HgsmbNTLtut9"
      },
      "source": [
        "def read_data(x,train=False):\n",
        "    vec = 100\n",
        "    stopword = [',','.']\n",
        "    for i in stopword:\n",
        "        x['comment'] = x['comment'].map(lambda x : x.replace(i,''))\n",
        "    ptt = []\n",
        "    for i in x['comment'].values:\n",
        "        ptt.append(nlp(i)) \n",
        "    ptt_remove_stop = []\n",
        "    for doc in ptt:\n",
        "        ptt_remove_stop.append([token.lemma_ for token in doc if not token.is_stop])\n",
        "    if train:    \n",
        "        model_w2v = word2vec.Word2Vec(ptt_remove_stop, size = vec)    \n",
        "        w2v = []\n",
        "        for _, key in enumerate(model_w2v.wv.vocab):\n",
        "            w2v.append((key, model_w2v.wv[key]))\n",
        "        special_tokens = [\"<PAD>\", \"<UNK>\"]\n",
        "        for token in special_tokens:\n",
        "            w2v.append((token, [0.0] * vec)) \n",
        "        return  w2v,ptt_remove_stop\n",
        "    else:\n",
        "      return ptt_remove_stop   "
      ],
      "execution_count": null,
      "outputs": []
    },
    {
      "cell_type": "code",
      "metadata": {
        "id": "HxE9xcJT2ZjN"
      },
      "source": [
        "class Vocab:\n",
        "    def __init__(self, w2v, data):\n",
        "        self.w2v = w2v\n",
        "        self.data = data\n",
        "        self._idx2token = [token for token, _ in w2v]\n",
        "        self._token2idx = {token: idx for idx,\n",
        "                           token in enumerate(self._idx2token)}\n",
        "        self.PAD, self.UNK = self._token2idx[\"<PAD>\"], self._token2idx[\"<UNK>\"]\n",
        "\n",
        "    def trim_pad(self, tokens, seq_len):\n",
        "        return tokens[:min(seq_len, len(tokens))] + [self.PAD] * (seq_len - len(tokens))\n",
        "\n",
        "    def convert_tokens_to_indices(self, tokens):\n",
        "        return [\n",
        "            self._token2idx[token]\n",
        "            if token in self._token2idx else self.UNK\n",
        "            for token in tokens]\n",
        "    \n",
        "    def data2v(self, idx):\n",
        "        indx = self.convert_tokens_to_indices(self.data[idx])\n",
        "        indx = self.trim_pad(indx, 30)\n",
        "        indx = [self.w2v[token][1] for token in indx]\n",
        "        return np.array(indx)\n",
        "    \n",
        "    def data2v2(self):\n",
        "        indx = np.zeros((len(self.data),30,100))\n",
        "        for i in range(len(self.data)):\n",
        "            indx[i] = self.data2v(i)\n",
        "        return indx\n",
        "\n",
        "    def __len__(self):\n",
        "        return len(self._idx2token)"
      ],
      "execution_count": null,
      "outputs": []
    },
    {
      "cell_type": "code",
      "metadata": {
        "id": "0EA_xiWW2c1h"
      },
      "source": [
        "class LSTM_dataset(Dataset):\n",
        "    \n",
        "    def __init__(self, data, transform):\n",
        "        self.data = data\n",
        "        self.transform = transform\n",
        "\n",
        "        \n",
        "    def __len__(self):\n",
        "        return len(self.data)\n",
        "    \n",
        "\n",
        "    def __getitem__(self, idx):\n",
        "        vec = self.data[idx][0]\n",
        "        vec = self.transform(vec)\n",
        "        label = self.data[idx][1]\n",
        "        return vec, label"
      ],
      "execution_count": null,
      "outputs": []
    },
    {
      "cell_type": "code",
      "metadata": {
        "id": "Rl7J5rG_2fDU"
      },
      "source": [
        "class LSTM_Net(nn.Module):\n",
        "    def __init__(self, input_size, hidden_size, n_layers, bidirectional, dropout):\n",
        "        super(LSTM_Net, self).__init__()\n",
        "        \n",
        "        self.rnn = nn.LSTM(\n",
        "            input_size=input_size,\n",
        "            hidden_size=hidden_size,\n",
        "            num_layers=n_layers,\n",
        "            dropout=dropout,\n",
        "            bidirectional=bidirectional,\n",
        "            batch_first=True)\n",
        "        self.classifier = nn.Sequential(\n",
        "            nn.Dropout(0.3),\n",
        "            nn.Linear(hidden_size * (1+bidirectional), 1),\n",
        "            nn.Sigmoid()\n",
        " )\n",
        "\n",
        "    def forward(self, batch):\n",
        "        #batch = self.embedding(batch)\n",
        "        output, (_, _) = self.rnn(batch)\n",
        "        output = output.mean(1)\n",
        "        logit = self.classifier(output)\n",
        "        return logit"
      ],
      "execution_count": null,
      "outputs": []
    },
    {
      "cell_type": "code",
      "metadata": {
        "id": "M57DcCLt2iR9"
      },
      "source": [
        "from sklearn.metrics import f1_score\n",
        "def evaluation(output, labels):\n",
        "    output[output >=0.5 ] = 1\n",
        "    output[output < 0.5 ] = 0\n",
        "    output = output.cpu()\n",
        "    output = output.detach().numpy()\n",
        "    labels = labels.cpu()\n",
        "    labels = labels.detach().numpy()\n",
        "    score = f1_score(labels, output, average='micro')\n",
        "    return score"
      ],
      "execution_count": null,
      "outputs": []
    },
    {
      "cell_type": "code",
      "metadata": {
        "id": "uOJ4_NNC2k9D"
      },
      "source": [
        "w2v, ptt_remove_stop = read_data(trainX,train=True)\n",
        "ptt_remove_stop_test = read_data(testX)"
      ],
      "execution_count": null,
      "outputs": []
    },
    {
      "cell_type": "code",
      "metadata": {
        "id": "g1PHwJD9pED_",
        "colab": {
          "base_uri": "https://localhost:8080/",
          "height": 35
        },
        "outputId": "6e7b8e18-5659-4187-b106-902b048dcb98"
      },
      "source": [
        "trainY['label'].values[:10]"
      ],
      "execution_count": null,
      "outputs": [
        {
          "output_type": "execute_result",
          "data": {
            "text/plain": [
              "array([0, 0, 0, 1, 1, 0, 0, 0, 0, 1])"
            ]
          },
          "metadata": {
            "tags": []
          },
          "execution_count": 124
        }
      ]
    },
    {
      "cell_type": "code",
      "metadata": {
        "id": "QxW_3WRT2nj4",
        "colab": {
          "base_uri": "https://localhost:8080/",
          "height": 1000
        },
        "outputId": "ac8e7b32-3d3d-4e2b-c489-91124e53dda5"
      },
      "source": [
        "use_gpu = torch.cuda.is_available()\n",
        "#nlp = en_core_web_md.load()\n",
        "#tokenizer = spacy.lang.en.English().Defaults().create_tokenizer(nlp)\n",
        "#w2v, ptt_remove_stop = read_data(trainX,train=True)\n",
        "#vocab = Vocab(w2v, ptt_remove_stop)\n",
        "data = vocab.data2v2()\n",
        "train_data = data[:10000]\n",
        "valid_data = data[10000:]\n",
        "train_data = list(zip(train_data, trainY['label'].values[:10000]))\n",
        "valid_data = list(zip(valid_data, trainY['label'].values[10000:]))\n",
        "transform = transforms.Compose([transforms.ToTensor()])\n",
        "train_set = LSTM_dataset(train_data, transform)\n",
        "valid_set = LSTM_dataset(valid_data, transform)\n",
        "train_loader = DataLoader(train_set, batch_size=32, shuffle=True)\n",
        "valid_loader = DataLoader(valid_set, batch_size=32, shuffle=True)\n",
        "vec=100\n",
        "model = LSTM_Net(vec,256,2,True,0.5)\n",
        "model = model.double()\n",
        "if use_gpu:\n",
        "    model.cuda()\n",
        "\n",
        "optimizer = Adam(model.parameters(), lr=0.001)\n",
        "loss_fn = nn.BCELoss()\n",
        "\n",
        "num_epoch = 15\n",
        "n1 = len(train_loader)\n",
        "n2 = len(valid_loader)\n",
        "loss_history = []\n",
        "for epoch in range(num_epoch):\n",
        "    model.train()\n",
        "    train_loss = 0\n",
        "    train_f1 = 0\n",
        "    for idx, (seq, label) in enumerate(train_loader):\n",
        "        if use_gpu:\n",
        "            seq = seq.cuda()\n",
        "            label = label.cuda()\n",
        "        optimizer.zero_grad()\n",
        "        batch_size = seq.shape[0]\n",
        "        output = model(seq.view(batch_size,30,vec))\n",
        "        label = label.view(-1,1)\n",
        "        label = label.double()\n",
        "     #   output = output.squeeze()\n",
        "        loss = loss_fn(output, label)\n",
        "        loss.backward()\n",
        "        optimizer.step()\n",
        "        f1 = evaluation(output, label)\n",
        "        train_f1 += f1\n",
        "        train_loss += loss.item()\n",
        "    loss_history.append(train_loss)\n",
        "    print(f'\\nTrain [Epoch:{epoch+1}/{num_epoch}],  loss : {train_loss/batch_size},  f1 : {train_f1/n1}')\n",
        "            \n",
        "    model.eval()\n",
        "    with torch.no_grad():\n",
        "        train_loss, train_f1= 0,0\n",
        "        for idx, (seq, label) in enumerate(valid_loader):\n",
        "            if use_gpu:\n",
        "                seq = seq.cuda()\n",
        "                label = label.cuda()         \n",
        "            batch_size = seq.shape[0]\n",
        "            output = model(seq.view(batch_size,30,vec))\n",
        "        #    output = output.squeeze()\n",
        "            label = label.view(-1,1)\n",
        "            label = label.double()\n",
        "            loss = loss_fn(output, label)\n",
        "            f1 = evaluation(output, label)                \n",
        "            train_f1 += f1\n",
        "            train_loss += loss.item()\n",
        "    print(f'\\nValid [Epoch:{epoch+1}/{num_epoch}],  loss : {train_loss/batch_size},  f1 : {train_f1/n2}') \n",
        "    model.train()"
      ],
      "execution_count": null,
      "outputs": [
        {
          "output_type": "stream",
          "text": [
            "\n",
            "Train [Epoch:1/15],  loss : 12.351482548549313,  f1 : 0.6647364217252396\n",
            "\n",
            "Valid [Epoch:1/15],  loss : 7.917343686893567,  f1 : 0.6746323529411765\n",
            "\n",
            "Train [Epoch:2/15],  loss : 12.276906701034008,  f1 : 0.6669329073482428\n",
            "\n",
            "Valid [Epoch:2/15],  loss : 7.870514698901316,  f1 : 0.6749387254901961\n",
            "\n",
            "Train [Epoch:3/15],  loss : 12.202874353039041,  f1 : 0.665435303514377\n",
            "\n",
            "Valid [Epoch:3/15],  loss : 7.904823585398737,  f1 : 0.6737132352941176\n",
            "\n",
            "Train [Epoch:4/15],  loss : 12.184505496588628,  f1 : 0.6652356230031949\n",
            "\n",
            "Valid [Epoch:4/15],  loss : 7.86455821672919,  f1 : 0.6767769607843137\n",
            "\n",
            "Train [Epoch:5/15],  loss : 12.142122813140762,  f1 : 0.6678314696485623\n",
            "\n",
            "Valid [Epoch:5/15],  loss : 7.698692078345733,  f1 : 0.6822916666666666\n",
            "\n",
            "Train [Epoch:6/15],  loss : 11.92349996530893,  f1 : 0.6811102236421726\n",
            "\n",
            "Valid [Epoch:6/15],  loss : 7.631561276872085,  f1 : 0.6939338235294118\n",
            "\n",
            "Train [Epoch:7/15],  loss : 11.851019118772944,  f1 : 0.6909944089456869\n",
            "\n",
            "Valid [Epoch:7/15],  loss : 7.489747122750753,  f1 : 0.7040441176470589\n",
            "\n",
            "Train [Epoch:8/15],  loss : 11.597050671869374,  f1 : 0.6998801916932907\n",
            "\n",
            "Valid [Epoch:8/15],  loss : 7.426164906686424,  f1 : 0.7147671568627451\n",
            "\n",
            "Train [Epoch:9/15],  loss : 11.457909083369326,  f1 : 0.7060702875399361\n",
            "\n",
            "Valid [Epoch:9/15],  loss : 7.3653219708538735,  f1 : 0.7095588235294118\n",
            "\n",
            "Train [Epoch:10/15],  loss : 11.363746490411387,  f1 : 0.7107627795527156\n",
            "\n",
            "Valid [Epoch:10/15],  loss : 7.346052243990929,  f1 : 0.7169117647058824\n",
            "\n",
            "Train [Epoch:11/15],  loss : 11.355546982212818,  f1 : 0.7086661341853036\n",
            "\n",
            "Valid [Epoch:11/15],  loss : 7.31157718119079,  f1 : 0.7184436274509803\n",
            "\n",
            "Train [Epoch:12/15],  loss : 11.31947334109954,  f1 : 0.7092651757188498\n",
            "\n",
            "Valid [Epoch:12/15],  loss : 7.3802700542679585,  f1 : 0.710171568627451\n",
            "\n",
            "Train [Epoch:13/15],  loss : 11.258453337110538,  f1 : 0.7115615015974441\n",
            "\n",
            "Valid [Epoch:13/15],  loss : 7.29275622860297,  f1 : 0.7153799019607843\n",
            "\n",
            "Train [Epoch:14/15],  loss : 11.191661252974914,  f1 : 0.7152555910543131\n",
            "\n",
            "Valid [Epoch:14/15],  loss : 7.307190155033845,  f1 : 0.7159926470588235\n",
            "\n",
            "Train [Epoch:15/15],  loss : 11.146009871727042,  f1 : 0.7134584664536742\n",
            "\n",
            "Valid [Epoch:15/15],  loss : 7.2928941874450075,  f1 : 0.7153799019607843\n"
          ],
          "name": "stdout"
        }
      ]
    },
    {
      "cell_type": "code",
      "metadata": {
        "id": "6eZbrLi45QCL"
      },
      "source": [
        "model.eval()\n",
        "#ptt_remove_stop_test = read_data(testX)\n",
        "#vocab_test = Vocab(w2v, ptt_remove_stop_test)\n",
        "test_data = vocab_test.data2v2()   \n",
        "test_label = np.full(test_data.shape[0],1)\n",
        "test_data = list(zip(test_data, test_label))\n",
        "test_set = LSTM_dataset(test_data, transform)\n",
        "test_loader = DataLoader(test_set, batch_size=32)\n",
        "predict_value = []\n",
        "with torch.no_grad():\n",
        "    for seq, _ in test_loader:\n",
        "        if use_gpu:\n",
        "            seq = seq.cuda()\n",
        "        batch_size = seq.shape[0]\n",
        "        output = model(seq.view(batch_size,30,100))\n",
        "        predict_value += output.tolist()"
      ],
      "execution_count": null,
      "outputs": []
    },
    {
      "cell_type": "code",
      "metadata": {
        "id": "haJNEvmh8B4K"
      },
      "source": [
        "for idx,i in enumerate(predict_value):\n",
        "    if i[0] >= 0.5:\n",
        "        predict_value[idx] = 1\n",
        "    else:\n",
        "        predict_value[idx] = 0\n",
        "sub = pd.DataFrame()\n",
        "sub['id'] = np.arange(len(predict_value))\n",
        "sub['label'] = predict_value        \n",
        "sub.to_csv('predict.csv', index = False)"
      ],
      "execution_count": null,
      "outputs": []
    },
    {
      "cell_type": "code",
      "metadata": {
        "id": "3KD6IzsZ8VZ1"
      },
      "source": [
        "from google.colab import files\n",
        "files.download('predict.csv')"
      ],
      "execution_count": null,
      "outputs": []
    },
    {
      "cell_type": "code",
      "metadata": {
        "id": "5u0m40mBcj2-"
      },
      "source": [
        "files.download('w2v.npy')\n",
        "files.download('model123.pkl')"
      ],
      "execution_count": null,
      "outputs": []
    },
    {
      "cell_type": "code",
      "metadata": {
        "id": "QCHBZ8Yi8jnI"
      },
      "source": [
        "!cd"
      ],
      "execution_count": null,
      "outputs": []
    },
    {
      "cell_type": "code",
      "metadata": {
        "id": "hinL-yFH8lv9",
        "colab": {
          "base_uri": "https://localhost:8080/",
          "height": 355
        },
        "outputId": "64a773bb-6e4e-492b-ddcb-4ec329fb0437"
      },
      "source": [
        "sub.head(10)"
      ],
      "execution_count": null,
      "outputs": [
        {
          "output_type": "execute_result",
          "data": {
            "text/html": [
              "<div>\n",
              "<style scoped>\n",
              "    .dataframe tbody tr th:only-of-type {\n",
              "        vertical-align: middle;\n",
              "    }\n",
              "\n",
              "    .dataframe tbody tr th {\n",
              "        vertical-align: top;\n",
              "    }\n",
              "\n",
              "    .dataframe thead th {\n",
              "        text-align: right;\n",
              "    }\n",
              "</style>\n",
              "<table border=\"1\" class=\"dataframe\">\n",
              "  <thead>\n",
              "    <tr style=\"text-align: right;\">\n",
              "      <th></th>\n",
              "      <th>id</th>\n",
              "      <th>label</th>\n",
              "    </tr>\n",
              "  </thead>\n",
              "  <tbody>\n",
              "    <tr>\n",
              "      <th>0</th>\n",
              "      <td>0</td>\n",
              "      <td>0</td>\n",
              "    </tr>\n",
              "    <tr>\n",
              "      <th>1</th>\n",
              "      <td>1</td>\n",
              "      <td>0</td>\n",
              "    </tr>\n",
              "    <tr>\n",
              "      <th>2</th>\n",
              "      <td>2</td>\n",
              "      <td>1</td>\n",
              "    </tr>\n",
              "    <tr>\n",
              "      <th>3</th>\n",
              "      <td>3</td>\n",
              "      <td>0</td>\n",
              "    </tr>\n",
              "    <tr>\n",
              "      <th>4</th>\n",
              "      <td>4</td>\n",
              "      <td>0</td>\n",
              "    </tr>\n",
              "    <tr>\n",
              "      <th>5</th>\n",
              "      <td>5</td>\n",
              "      <td>0</td>\n",
              "    </tr>\n",
              "    <tr>\n",
              "      <th>6</th>\n",
              "      <td>6</td>\n",
              "      <td>0</td>\n",
              "    </tr>\n",
              "    <tr>\n",
              "      <th>7</th>\n",
              "      <td>7</td>\n",
              "      <td>0</td>\n",
              "    </tr>\n",
              "    <tr>\n",
              "      <th>8</th>\n",
              "      <td>8</td>\n",
              "      <td>0</td>\n",
              "    </tr>\n",
              "    <tr>\n",
              "      <th>9</th>\n",
              "      <td>9</td>\n",
              "      <td>0</td>\n",
              "    </tr>\n",
              "  </tbody>\n",
              "</table>\n",
              "</div>"
            ],
            "text/plain": [
              "   id  label\n",
              "0   0      0\n",
              "1   1      0\n",
              "2   2      1\n",
              "3   3      0\n",
              "4   4      0\n",
              "5   5      0\n",
              "6   6      0\n",
              "7   7      0\n",
              "8   8      0\n",
              "9   9      0"
            ]
          },
          "metadata": {
            "tags": []
          },
          "execution_count": 104
        }
      ]
    },
    {
      "cell_type": "code",
      "metadata": {
        "id": "jx7uzSRHCFs-",
        "colab": {
          "base_uri": "https://localhost:8080/",
          "height": 265
        },
        "outputId": "a6639b88-b9a5-4b95-ff9f-51ab2b711072"
      },
      "source": [
        "plt.plot(np.arange(10)+1,loss_history)\n",
        "plt.show()"
      ],
      "execution_count": null,
      "outputs": [
        {
          "output_type": "display_data",
          "data": {
            "image/png": "[encoded data removed]",
            "text/plain": [
              "<Figure size 432x288 with 1 Axes>"
            ]
          },
          "metadata": {
            "tags": []
          }
        }
      ]
    },
    {
      "cell_type": "code",
      "metadata": {
        "id": "cUXMEyZcZ_Xy"
      },
      "source": [
        "torch.save(model.state_dict(), 'model123.pkl')"
      ],
      "execution_count": null,
      "outputs": []
    },
    {
      "cell_type": "code",
      "metadata": {
        "id": "TP-B6tz9Om6a"
      },
      "source": [
        "aa = model.load_state_dict(torch.load('model1.pkl'))"
      ],
      "execution_count": null,
      "outputs": []
    },
    {
      "cell_type": "code",
      "metadata": {
        "id": "u4q4E-7IPAiF"
      },
      "source": [
        "np.save('w2v.npy', np.array(w2v))"
      ],
      "execution_count": null,
      "outputs": []
    },
    {
      "cell_type": "code",
      "metadata": {
        "id": "8UstSOXTNueo",
        "colab": {
          "base_uri": "https://localhost:8080/",
          "height": 52
        },
        "outputId": "b5e551d4-a4e9-4a99-d24a-a175a93fe659"
      },
      "source": [
        "!ls"
      ],
      "execution_count": null,
      "outputs": [
        {
          "output_type": "stream",
          "text": [
            "adc.json     sample_data  train_x.csv  w2v.npy\n",
            "predict.csv  test_x.csv   train_y.csv\n"
          ],
          "name": "stdout"
        }
      ]
    },
    {
      "cell_type": "code",
      "metadata": {
        "id": "1yxJJeumY4zT"
      },
      "source": [
        ""
      ],
      "execution_count": null,
      "outputs": []
    }
  ]
}